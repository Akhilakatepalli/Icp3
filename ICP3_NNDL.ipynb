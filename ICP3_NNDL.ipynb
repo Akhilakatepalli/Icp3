{
  "nbformat": 4,
  "nbformat_minor": 0,
  "metadata": {
    "colab": {
      "provenance": []
    },
    "kernelspec": {
      "name": "python3",
      "display_name": "Python 3"
    },
    "language_info": {
      "name": "python"
    }
  },
  "cells": [
    {
      "cell_type": "code",
      "execution_count": 2,
      "metadata": {
        "colab": {
          "base_uri": "https://localhost:8080/"
        },
        "id": "suzbO8BnM2tT",
        "outputId": "1f8cf08d-8b67-457f-c7dc-f79efff0e657"
      },
      "outputs": [
        {
          "output_type": "stream",
          "name": "stdout",
          "text": [
            "Original array:\n",
            "[15.39769442 13.10496675 18.49860901 11.15699182  7.78986373 12.13487122\n",
            "  2.25843629 15.70051464 15.41318803 12.37516949 13.42623028 19.1784791\n",
            " 15.45425827 17.2276067  17.64831907  8.06539259  3.43394523 17.99074837\n",
            " 15.25423275  5.95347635]\n",
            "\n",
            "Reshaped array:\n",
            "[[15.39769442 13.10496675  0.         11.15699182  7.78986373]\n",
            " [12.13487122  2.25843629  0.         15.41318803 12.37516949]\n",
            " [13.42623028  0.         15.45425827 17.2276067  17.64831907]\n",
            " [ 8.06539259  3.43394523  0.         15.25423275  5.95347635]]\n"
          ]
        }
      ],
      "source": [
        "import numpy as np\n",
        "random_vector = np.random.uniform(1, 20, size=20)\n",
        "print(\"Original array:\")\n",
        "print(random_vector)\n",
        "\n",
        "reshaped_array = random_vector.reshape(4, 5)\n",
        "\n",
        "max_indices = np.argmax(reshaped_array, axis=1)\n",
        "\n",
        "reshaped_array[np.arange(4), max_indices] = 0\n",
        "\n",
        "print(\"\\nReshaped array:\")\n",
        "print(reshaped_array)\n"
      ]
    },
    {
      "cell_type": "code",
      "source": [],
      "metadata": {
        "id": "hi-mQqNk4Ez4"
      },
      "execution_count": null,
      "outputs": []
    },
    {
      "cell_type": "code",
      "source": [
        "class Employee:\n",
        "    num_employees = 0\n",
        "\n",
        "    def __init__(self, name, family, salary, department):\n",
        "        self.name = name\n",
        "        self.family = family\n",
        "        self.salary = salary\n",
        "        self.department = department\n",
        "        Employee.num_employees += 1\n",
        "\n",
        "    @staticmethod\n",
        "    def average_salary(employees):\n",
        "        total_salary = sum(emp.salary for emp in employees)\n",
        "        return total_salary / len(employees)\n",
        "\n",
        "class FulltimeEmployee(Employee):\n",
        "    def __init__(self, name, family, salary, department, experience):\n",
        "        super().__init__(name, family, salary, department)\n",
        "        self.experience = experience\n",
        "\n",
        "employee1 = Employee(\"John Doe\", \"Family A\", 60000, \"HR\")\n",
        "employee2 = Employee(\"Jane Smith\", \"Family B\", 75000, \"Finance\")\n",
        "\n",
        "fulltime_employee1 = FulltimeEmployee(\"Alice Johnson\", \"Family C\", 80000, \"IT\", 3)\n",
        "fulltime_employee2 = FulltimeEmployee(\"Bob Williams\", \"Family D\", 90000, \"Engineering\", 5)\n",
        "\n",
        "employees = [employee1, employee2, fulltime_employee1, fulltime_employee2]\n",
        "avg_salary = Employee.average_salary(employees)\n",
        "\n",
        "print(\"Total number of employees:\", Employee.num_employees)\n",
        "print(\"Average salary:\", avg_salary)\n"
      ],
      "metadata": {
        "colab": {
          "base_uri": "https://localhost:8080/"
        },
        "id": "Ec3PenBQM90H",
        "outputId": "6b8a2c81-b2ec-4aa8-c6e4-0453f6216fcb"
      },
      "execution_count": 1,
      "outputs": [
        {
          "output_type": "stream",
          "name": "stdout",
          "text": [
            "Total number of employees: 4\n",
            "Average salary: 76250.0\n"
          ]
        }
      ]
    }
  ]
}